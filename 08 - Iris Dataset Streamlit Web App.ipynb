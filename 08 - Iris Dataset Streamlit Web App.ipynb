{
 "cells": [
  {
   "cell_type": "markdown",
   "metadata": {
    "id": "vWmc_s2ezvU0"
   },
   "source": [
    "# Run streamlit app from a Google Colab Notebook"
   ]
  },
  {
   "cell_type": "code",
   "execution_count": 1,
   "metadata": {
    "colab": {
     "base_uri": "https://localhost:8080/"
    },
    "id": "RvlYkCQ9vFiy",
    "outputId": "da74f215-c7f3-4850-8579-30acc22be6f0"
   },
   "outputs": [
    {
     "name": "stdout",
     "output_type": "stream",
     "text": [
      "\u001b[K     |████████████████████████████████| 8.2MB 8.0MB/s \n",
      "\u001b[K     |████████████████████████████████| 163kB 48.6MB/s \n",
      "\u001b[K     |████████████████████████████████| 4.6MB 47.8MB/s \n",
      "\u001b[K     |████████████████████████████████| 81kB 8.3MB/s \n",
      "\u001b[K     |████████████████████████████████| 112kB 35.4MB/s \n",
      "\u001b[K     |████████████████████████████████| 71kB 7.5MB/s \n",
      "\u001b[K     |████████████████████████████████| 122kB 57.1MB/s \n",
      "\u001b[?25h  Building wheel for blinker (setup.py) ... \u001b[?25l\u001b[?25hdone\n",
      "\u001b[31mERROR: google-colab 1.0.0 has requirement ipykernel~=4.10, but you'll have ipykernel 5.5.3 which is incompatible.\u001b[0m\n"
     ]
    }
   ],
   "source": [
    "!pip install -q streamlit"
   ]
  },
  {
   "cell_type": "markdown",
   "metadata": {
    "id": "uzvl_5Cv8HeX"
   },
   "source": [
    "**Restart the colab runtime after streamlit installation**"
   ]
  },
  {
   "cell_type": "markdown",
   "metadata": {
    "id": "jnZ0QpzC0UiU"
   },
   "source": [
    "## Download a streamlit app example\n",
    "\n",
    "It will create a **Simple Iris Flower Prediction App**"
   ]
  },
  {
   "cell_type": "code",
   "execution_count": 1,
   "metadata": {
    "colab": {
     "base_uri": "https://localhost:8080/"
    },
    "id": "S1sic9Rt0T7l",
    "outputId": "338e29ed-e0ae-47f6-fec5-f78b73eb60af"
   },
   "outputs": [
    {
     "name": "stdout",
     "output_type": "stream",
     "text": [
      "--2021-04-12 14:45:43--  https://raw.githubusercontent.com/dataprofessor/code/master/streamlit/part2/iris-ml-app.py\n",
      "Resolving raw.githubusercontent.com (raw.githubusercontent.com)... 185.199.111.133, 185.199.108.133, 185.199.110.133, ...\n",
      "Connecting to raw.githubusercontent.com (raw.githubusercontent.com)|185.199.111.133|:443... connected.\n",
      "HTTP request sent, awaiting response... 200 OK\n",
      "Length: 1350 (1.3K) [text/plain]\n",
      "Saving to: ‘iris-ml-app.py’\n",
      "\n",
      "\r",
      "iris-ml-app.py        0%[                    ]       0  --.-KB/s               \r",
      "iris-ml-app.py      100%[===================>]   1.32K  --.-KB/s    in 0s      \n",
      "\n",
      "2021-04-12 14:45:43 (43.2 MB/s) - ‘iris-ml-app.py’ saved [1350/1350]\n",
      "\n"
     ]
    }
   ],
   "source": [
    "!wget https://raw.githubusercontent.com/dataprofessor/code/master/streamlit/part2/iris-ml-app.py"
   ]
  },
  {
   "cell_type": "markdown",
   "metadata": {
    "id": "encqGJ4u0FYG"
   },
   "source": [
    "## Install ngrok"
   ]
  },
  {
   "cell_type": "code",
   "execution_count": 2,
   "metadata": {
    "colab": {
     "base_uri": "https://localhost:8080/"
    },
    "id": "VSPUMEHYwqng",
    "outputId": "13e81e89-3162-4f64-9a70-dd06ca032323"
   },
   "outputs": [
    {
     "name": "stdout",
     "output_type": "stream",
     "text": [
      "--2021-04-12 14:45:47--  https://bin.equinox.io/c/4VmDzA7iaHb/ngrok-stable-linux-amd64.zip\n",
      "Resolving bin.equinox.io (bin.equinox.io)... 52.21.175.83, 54.209.238.187, 3.223.73.198, ...\n",
      "Connecting to bin.equinox.io (bin.equinox.io)|52.21.175.83|:443... connected.\n",
      "HTTP request sent, awaiting response... 200 OK\n",
      "Length: 14746350 (14M) [application/octet-stream]\n",
      "Saving to: ‘ngrok-stable-linux-amd64.zip’\n",
      "\n",
      "ngrok-stable-linux- 100%[===================>]  14.06M  17.5MB/s    in 0.8s    \n",
      "\n",
      "2021-04-12 14:45:48 (17.5 MB/s) - ‘ngrok-stable-linux-amd64.zip’ saved [14746350/14746350]\n",
      "\n"
     ]
    }
   ],
   "source": [
    "!wget https://bin.equinox.io/c/4VmDzA7iaHb/ngrok-stable-linux-amd64.zip\n",
    "!unzip ngrok-stable-linux-amd64.zip"
   ]
  },
  {
   "cell_type": "code",
   "execution_count": 4,
   "metadata": {
    "id": "qGCM2OjvxNit"
   },
   "outputs": [],
   "source": [
    "get_ipython().system_raw('./ngrok http 8501 &')"
   ]
  },
  {
   "cell_type": "code",
   "execution_count": 5,
   "metadata": {
    "colab": {
     "base_uri": "https://localhost:8080/"
    },
    "id": "bxwv00hdxedU",
    "outputId": "ee7bb349-9432-47d1-8ea7-70b95e7b6a69"
   },
   "outputs": [
    {
     "name": "stdout",
     "output_type": "stream",
     "text": [
      "Execute the next cell and the go to the following URL: https://2f80ec9084ac.ngrok.io\n"
     ]
    }
   ],
   "source": [
    "!curl -s http://localhost:4040/api/tunnels | python3 -c \\\n",
    "    'import sys, json; print(\"Execute the next cell and the go to the following URL: \" +json.load(sys.stdin)[\"tunnels\"][0][\"public_url\"])'"
   ]
  },
  {
   "cell_type": "code",
   "execution_count": null,
   "metadata": {
    "colab": {
     "base_uri": "https://localhost:8080/"
    },
    "id": "IFvZnzS4vr88",
    "outputId": "ebb9620d-41f6-4ac3-cf8f-a71c90f3c25e"
   },
   "outputs": [
    {
     "name": "stdout",
     "output_type": "stream",
     "text": [
      "\u001b[0m\n",
      "\u001b[34m\u001b[1m  You can now view your Streamlit app in your browser.\u001b[0m\n",
      "\u001b[0m\n",
      "\u001b[34m  Network URL: \u001b[0m\u001b[1mhttp://172.28.0.2:8501\u001b[0m\n",
      "\u001b[34m  External URL: \u001b[0m\u001b[1mhttp://35.197.126.246:8501\u001b[0m\n",
      "\u001b[0m\n"
     ]
    }
   ],
   "source": [
    "!streamlit run /content/iris-ml-app.py"
   ]
  },
  {
   "cell_type": "markdown",
   "metadata": {
    "id": "XAoC_8Tlj9yf"
   },
   "source": [
    "The Web App will look like this:\n",
    "![link text](https://i.imgur.com/wAnnPg8.png)"
   ]
  },
  {
   "cell_type": "code",
   "execution_count": null,
   "metadata": {
    "id": "lQyuzvXBwMyd"
   },
   "outputs": [],
   "source": []
  }
 ],
 "metadata": {
  "colab": {
   "collapsed_sections": [],
   "name": "Iris_streamlit_app.ipynb",
   "provenance": [],
   "toc_visible": true
  },
  "kernelspec": {
   "display_name": "Python 3",
   "language": "python",
   "name": "python3"
  },
  "language_info": {
   "codemirror_mode": {
    "name": "ipython",
    "version": 3
   },
   "file_extension": ".py",
   "mimetype": "text/x-python",
   "name": "python",
   "nbconvert_exporter": "python",
   "pygments_lexer": "ipython3",
   "version": "3.8.5"
  }
 },
 "nbformat": 4,
 "nbformat_minor": 1
}
