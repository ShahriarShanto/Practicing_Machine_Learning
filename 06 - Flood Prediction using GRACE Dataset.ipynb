{
 "cells": [
  {
   "cell_type": "markdown",
   "metadata": {
    "id": "y_bUBdyBl0qQ"
   },
   "source": [
    "### Download GRACE RL06 Dataset"
   ]
  },
  {
   "cell_type": "code",
   "execution_count": null,
   "metadata": {
    "colab": {
     "base_uri": "https://localhost:8080/",
     "height": 74
    },
    "id": "NGMOuhGbN_a9",
    "outputId": "5bf1baa2-8c8b-4558-8f2c-6faa30122955"
   },
   "outputs": [
    {
     "name": "stdout",
     "output_type": "stream",
     "text": [
      "  % Total    % Received % Xferd  Average Speed   Time    Time     Time  Current\n",
      "                                 Dload  Upload   Total   Spent    Left  Speed\n",
      "100  759M  100  759M    0     0  10.8M      0  0:01:09  0:01:09 --:--:-- 11.2M\n"
     ]
    }
   ],
   "source": [
    "!curl \"http://download.csr.utexas.edu/outgoing/grace/RL06_mascons/CSR_GRACE_GRACE-FO_RL06_Mascons_all-corrections_v02.nc\" -o GRACE_RL06_Mascons.nc"
   ]
  },
  {
   "cell_type": "code",
   "execution_count": null,
   "metadata": {
    "colab": {
     "base_uri": "https://localhost:8080/",
     "height": 207
    },
    "id": "dBvNdXt6OVJi",
    "outputId": "a17b58d3-0734-41df-cb7f-972f8fa2d826"
   },
   "outputs": [
    {
     "name": "stdout",
     "output_type": "stream",
     "text": [
      "Collecting netCDF4\n",
      "\u001b[?25l  Downloading https://files.pythonhosted.org/packages/09/39/3687b2ba762a709cd97e48dfaf3ae36a78ae603ec3d1487f767ad58a7b2e/netCDF4-1.5.4-cp36-cp36m-manylinux1_x86_64.whl (4.3MB)\n",
      "\u001b[K     |████████████████████████████████| 4.3MB 9.3MB/s \n",
      "\u001b[?25hCollecting cftime\n",
      "\u001b[?25l  Downloading https://files.pythonhosted.org/packages/81/f4/31cb9b65f462ea960bd334c5466313cb7b8af792f272546b68b7868fccd4/cftime-1.2.1-cp36-cp36m-manylinux1_x86_64.whl (287kB)\n",
      "\u001b[K     |████████████████████████████████| 296kB 32.2MB/s \n",
      "\u001b[?25hRequirement already satisfied: numpy>=1.9 in /usr/local/lib/python3.6/dist-packages (from netCDF4) (1.18.5)\n",
      "Installing collected packages: cftime, netCDF4\n",
      "Successfully installed cftime-1.2.1 netCDF4-1.5.4\n"
     ]
    }
   ],
   "source": [
    "!python -m pip install netCDF4"
   ]
  },
  {
   "cell_type": "markdown",
   "metadata": {
    "id": "RM1BYQ05lrP2"
   },
   "source": [
    "### Load dataset & explore it"
   ]
  },
  {
   "cell_type": "code",
   "execution_count": null,
   "metadata": {
    "id": "7Pfv2rcpo-kY"
   },
   "outputs": [],
   "source": [
    "import netCDF4\n",
    "import numpy as np\n",
    "\n",
    "import tensorflow as tf\n",
    "from tensorflow import keras\n",
    "\n",
    "%matplotlib inline\n",
    "import matplotlib as mpl\n",
    "import matplotlib.pyplot as plt\n",
    "mpl.rc('axes', labelsize=14)\n",
    "mpl.rc('xtick', labelsize=12)\n",
    "mpl.rc('ytick', labelsize=12)"
   ]
  },
  {
   "cell_type": "code",
   "execution_count": null,
   "metadata": {
    "colab": {
     "base_uri": "https://localhost:8080/"
    },
    "id": "1EU6EP61OvVH",
    "outputId": "641acacf-c7ec-4ad7-b537-fede047d4589"
   },
   "outputs": [
    {
     "name": "stdout",
     "output_type": "stream",
     "text": [
      "<class 'netCDF4._netCDF4.Dataset'>\n",
      "root group (NETCDF4_CLASSIC data model, file format HDF5):\n",
      "    Conventions: CF-1.6, ACDD-1.3, ISO 8601\n",
      "    filename: netcdf/CSR_GRACE_GRACE-FO_RL06_Mascons_all-corrections_v02.nc\n",
      "    Metadata_Conventions: Unidata Dataset Discovery v1.0\n",
      "    standard_name_vocabulary: NetCDF Climate and Forecast (CF) Metadata Convention-1.6\n",
      "    title: CSR GRACE and GRACE-FO MASCON RL06Mv2\n",
      "    summary: Monthly mass anomaly grids from GRACE and GRACE-FO determined from CSR RL06 processing\n",
      "    keywords: Solid Earth, Geodetics/Gravity, Gravity, liquid_water_equivalent_thickness\n",
      "    keywords_vocabulary: NASA Global Change Master Directory (GCMD) Science Keywords\n",
      "    platform: GRACE and GRACE-FO\n",
      "    institution: The University of Texas - Center for Space Research (CSR)\n",
      "    creator_name: Himanshu Save\n",
      "    creator_email: grace@csr.utexas.edu\n",
      "    creator_url: http://www2.csr.utexas.edu/grace\n",
      "    creator_type: group\n",
      "    creator_institution: UT-CSR\n",
      "    publisher_name: \n",
      "    publisher_email: \n",
      "    publisher_url: \n",
      "    publisher_type: \n",
      "    publisher_institution: \n",
      "    project: NASA Gravity Recovery and Climate Experiment (GRACE) and NASA Gravity Recovery and Climate Experiment Follow-On (GRACE-FO)\n",
      "    program: NASA Earth Science System Pathfinder and NASA Earth Systematic Missions Program\n",
      "    url: https://doi.org/10.15781/cgq9-nh24\n",
      "    id: 10.15781/cgq9-nh24\n",
      "    naming_authority: org.doi.dx\n",
      "    source: GRACE and GRACE-FO CSR RL06Mv2 Mascon\n",
      "    processing_level: 2 and 3\n",
      "    acknowledgement: GRACE is a joint mission of NASA (USA) and DLR (Germany).  GRACE-FO is a joint mission of NASA (USA) and the German Research Center for Geosciences (GFZ).  Use the digital object identifier provided in the id attribute when citing this data.  See https://podaac.jpl.nasa.gov/CitingPODAAC\n",
      "    license: https://science.nasa.gov/earth-science/earth-science-data/data-information-policy\n",
      "    product_version: RL06 v2.0\n",
      "    data_author: Himanshu Save (save@csr.utexas.edu)\n",
      "    journal_reference: Save, H., S. Bettadpur, B. D. Tapley (2016), High resolution CSR GRACE RL05 mascons, J. Geophys. Res. Solid Earth\n",
      "    time_epoch: 2002-01-01T00:00:00Z\n",
      "    time_coverage_start: 2002-04-05T00:00:00Z\n",
      "    time_coverage_end: 2020-07-31T23:59:59Z\n",
      "    geospatial_lat_min: -89.875\n",
      "    geospatial_lat_max: 89.875\n",
      "    geospatial_lat_units: degrees_north\n",
      "    geospatial_lon_min: 0.125\n",
      "    geospatial_lon_max: 359.875\n",
      "    geospatial_lon_units: degrees_east\n",
      "    geospatial_lat_resolution: 0.25 degree grid; however the mascons are estimated on a 1-degree equal area mascons and the native resolution of the GRACE/GRACE-FO data is roughly 300km\n",
      "    time_mean_removed: 2004.000 to 2009.999\n",
      "    months_missing: 2002-06;2002-07;2003-06;2011-01;2011-06;2012-05;2012-10;2013-03;2013-08;2013-09;2014-02;2014-07;2014-12;2015-06;2015-10;2015-11;2016-04;2016-09;2016-10;2017-02;2017-02;2017-07;2017-08;2017-09;2017-10;2017-11;2017-12;2018-01;2018-02;2018-03;2018-04;2018-05;2018-08,2018-09\n",
      "    postprocess_1: RL06 AOD1B; OCEAN_ATMOSPHERE_DEALIAS_MODEL (GAD), MONTHLY_AVE, ADDED BACK TO OCEAN PIXELS ONLY\n",
      "    postprocess_2: Water density used to convert to equivalent water height: 1025 kg/m^3\n",
      "    GIA_Removed: ICE6G-D; Peltier, W. R., D. F. Argus, and R. Drummond (2018) Comment on the paper by Purcell et al. 2016 entitled An assessment of ICE-6G_C (VM5a) glacial isostatic adjustment model, J. Geophys. Res. Solid Earth, 122.\n",
      "    geocenter_correction: We use a version of TN-13 based on the CSR RL06 (https://podaac-tools.jpl.nasa.gov/drive/files/allData/grace/docs/TN-13_GEOC_CSR_RL06.txt)\n",
      "    C_20_substitution: TN-14; Loomis et al., 2019, Geophys. Res. Lett., doi:10.1029/2019GL082929 (https://podaac-tools.jpl.nasa.gov/drive/files/allData/gracefo/docs/TN-14_C30_C20_GSFC_SLR.txt)\n",
      "    C_30_substitution: TN-14; Loomis et al., 2019, Geophys. Res. Lett., doi:10.1029/2019GL082929 (https://podaac-tools.jpl.nasa.gov/drive/files/allData/gracefo/docs/TN-14_C30_C20_GSFC_SLR.txt)\n",
      "    user_note_1: The accelerometer on the GRACE-B spacecraft was turned off after August 2016.  After this date, the accelerometer on GRACE-A was used to derive the non-gravitational accelerations acting on GRACE-B using a transplant procedure.  This has led to a subsequent degradation in the quality of the gravity fields derived.\n",
      "    user_note_2: The accelerometer on the GRACE-FO 2 spacecraft has underperformed since after launch.  The accelerometer on GRACE-FO 1 was used to derive the non-gravitational accelerations acting on GRACE-FO 2 using a transplant procedure. This has led to a degradation in the quality of the gravity fields derived.\n",
      "    user_note_3: Ellipsoidal correction has been applied. The grid is represented on the ellipsoid with semi-major axis of 6378.1363 km\n",
      "    date_created: 2020-09-20T22:10:00Z\n",
      "    variable: liquid water equivalent thickness\n",
      "    label: RL06rc24cE\n",
      "    Mask: Global\n",
      "    dimensions(sizes): lat(720), lon(1440), time(187), bounds(2)\n",
      "    variables(dimensions): float32 lat(lat), float32 lon(lon), float32 time(time), float32 time_bounds(time, bounds), float32 lwe_thickness(time, lat, lon)\n",
      "    groups: \n"
     ]
    }
   ],
   "source": [
    "f = netCDF4.Dataset('/content/GRACE_RL06_Mascons.nc')\n",
    "print(f)"
   ]
  },
  {
   "cell_type": "code",
   "execution_count": null,
   "metadata": {
    "colab": {
     "base_uri": "https://localhost:8080/"
    },
    "id": "jUeOSrYto8ag",
    "outputId": "7b04c5b2-cb33-4a62-cc46-4ec89aa4fdee"
   },
   "outputs": [
    {
     "name": "stdout",
     "output_type": "stream",
     "text": [
      "odict_keys(['lat', 'lon', 'time', 'time_bounds', 'lwe_thickness'])\n"
     ]
    }
   ],
   "source": [
    "print(f.variables.keys())"
   ]
  },
  {
   "cell_type": "code",
   "execution_count": null,
   "metadata": {
    "id": "b0BwEVK5tO1l"
   },
   "outputs": [],
   "source": [
    "lt, ln = f.variables['lat'], f.variables['lon']"
   ]
  },
  {
   "cell_type": "code",
   "execution_count": null,
   "metadata": {
    "colab": {
     "base_uri": "https://localhost:8080/"
    },
    "id": "U74uw8OKgaIa",
    "outputId": "6f535329-21a0-4247-b58b-d0939b32aeac"
   },
   "outputs": [
    {
     "name": "stdout",
     "output_type": "stream",
     "text": [
      "<class 'netCDF4._netCDF4.Variable'>\n",
      "float32 lwe_thickness(time, lat, lon)\n",
      "    units: cm\n",
      "    long_name: Liquid_Water_Equivalent_Thickness\n",
      "    standard_name: Liquid_Water_Equivalent_Thickness\n",
      "    coordinates: time lat lon\n",
      "    grid_mapping: WGS84\n",
      "unlimited dimensions: \n",
      "current shape = (187, 720, 1440)\n",
      "filling on, default _FillValue of 9.969209968386869e+36 used\n"
     ]
    }
   ],
   "source": [
    "w = f.variables['lwe_thickness']\n",
    "print(w)"
   ]
  },
  {
   "cell_type": "code",
   "execution_count": null,
   "metadata": {
    "id": "cBmKW4UR1NdY"
   },
   "outputs": [],
   "source": [
    "def getclosestindex(vs,v):\n",
    "    dist_sq = (vs-v)**2\n",
    "    minindex_flattened = dist_sq.argmin()\n",
    "    return minindex_flattened"
   ]
  },
  {
   "cell_type": "markdown",
   "metadata": {
    "id": "6nMesx9slh5H"
   },
   "source": [
    "## Enter Location"
   ]
  },
  {
   "cell_type": "code",
   "execution_count": null,
   "metadata": {
    "colab": {
     "base_uri": "https://localhost:8080/",
     "height": 413
    },
    "id": "wZ9BkzpBqnuS",
    "outputId": "5da14a14-b9d8-40f9-8d3d-24a5cc87367d"
   },
   "outputs": [
    {
     "name": "stdout",
     "output_type": "stream",
     "text": [
      "Harirampur\n",
      "(454, 359)\n",
      "23.625 89.875\n"
     ]
    },
    {
     "name": "stderr",
     "output_type": "stream",
     "text": [
      "/usr/local/lib/python3.6/dist-packages/ipykernel_launcher.py:8: UserWarning: WARNING: valid_min not used since it\n",
      "cannot be safely cast to variable data type\n",
      "  \n",
      "/usr/local/lib/python3.6/dist-packages/ipykernel_launcher.py:8: UserWarning: WARNING: valid_max not used since it\n",
      "cannot be safely cast to variable data type\n",
      "  \n",
      "/usr/local/lib/python3.6/dist-packages/ipykernel_launcher.py:9: UserWarning: WARNING: valid_min not used since it\n",
      "cannot be safely cast to variable data type\n",
      "  if __name__ == '__main__':\n",
      "/usr/local/lib/python3.6/dist-packages/ipykernel_launcher.py:9: UserWarning: WARNING: valid_max not used since it\n",
      "cannot be safely cast to variable data type\n",
      "  if __name__ == '__main__':\n",
      "/usr/local/lib/python3.6/dist-packages/ipykernel_launcher.py:16: UserWarning: WARNING: valid_min not used since it\n",
      "cannot be safely cast to variable data type\n",
      "  app.launch_new_instance()\n",
      "/usr/local/lib/python3.6/dist-packages/ipykernel_launcher.py:16: UserWarning: WARNING: valid_max not used since it\n",
      "cannot be safely cast to variable data type\n",
      "  app.launch_new_instance()\n"
     ]
    }
   ],
   "source": [
    "# Input loc here\n",
    "RUN = 0\n",
    "\n",
    "loc = \"Harirampur\"\n",
    "\n",
    "input_lt, input_ln = 23.746481, 89.973992\n",
    "\n",
    "latvals = lt[:]\n",
    "lonvals = ln[:]\n",
    "\n",
    "xc = getclosestindex(latvals, input_lt)\n",
    "yc = getclosestindex(lonvals, input_ln)\n",
    "\n",
    "print(loc)\n",
    "print((xc, yc))\n",
    "print(lt[xc],ln[yc])"
   ]
  },
  {
   "cell_type": "code",
   "execution_count": null,
   "metadata": {
    "colab": {
     "base_uri": "https://localhost:8080/",
     "height": 486
    },
    "id": "A6iZJk6OqH1H",
    "outputId": "58901fd0-deae-4284-ff69-bd3b0aeb14b5"
   },
   "outputs": [
    {
     "data": {
      "image/png": "[encoded data removed]",
      "text/plain": [
       "<Figure size 1008x576 with 1 Axes>"
      ]
     },
     "metadata": {
      "needs_background": "light",
      "tags": []
     },
     "output_type": "display_data"
    }
   ],
   "source": [
    "import matplotlib.pyplot as plt\n",
    "%matplotlib inline\n",
    "\n",
    "plt.figure(figsize=(14,8))\n",
    "plt.plot(w[:, xc, yc], label=\"Water height\", marker=\"o\", color=\"Blue\")\n",
    "plt.legend()\n",
    "plt.savefig(\"WL.png\", dpi=120)"
   ]
  },
  {
   "cell_type": "code",
   "execution_count": null,
   "metadata": {
    "colab": {
     "base_uri": "https://localhost:8080/",
     "height": 55
    },
    "id": "EDLMCy02cHaM",
    "outputId": "f5328139-9d7b-44e9-b44d-51de443795de"
   },
   "outputs": [
    {
     "name": "stdout",
     "output_type": "stream",
     "text": [
      "Elevation: 36.666748\n",
      "Maximum Water Level: 84.351265\n"
     ]
    }
   ],
   "source": [
    "Mn = np.array([e for e in w[:, xc, yc]]).min()\n",
    "\n",
    "elev = abs(Mn)\n",
    "print(\"Elevation: \"+ str(elev))\n",
    "\n",
    "Mx = np.array([e+elev for e in w[:, xc, yc]]).max()\n",
    "print(\"Maximum Water Level: \"+str(Mx))"
   ]
  },
  {
   "cell_type": "markdown",
   "metadata": {
    "id": "LyOT1kwXSk-4"
   },
   "source": [
    "## Train the model"
   ]
  },
  {
   "cell_type": "code",
   "execution_count": null,
   "metadata": {
    "id": "wf0CzEh7aRC4"
   },
   "outputs": [],
   "source": [
    "# univariate multi-step vector-output 1d cnn example\n",
    "from numpy import array\n",
    "from keras.models import Sequential\n",
    "from keras.layers import Dense\n",
    "from keras.layers import Flatten\n",
    "from keras.layers.convolutional import Conv1D\n",
    "from keras.layers.convolutional import MaxPooling1D\n",
    "\n",
    "# split a univariate sequence into samples\n",
    "def split_sequence(sequence, n_steps_in, n_steps_out):\n",
    "\tX, y = list(), list()\n",
    "\tfor i in range(len(sequence)):\n",
    "\t\t# find the end of this pattern\n",
    "\t\tend_ix = i + n_steps_in\n",
    "\t\tout_end_ix = end_ix + n_steps_out\n",
    "\t\t# check if we are beyond the sequence\n",
    "\t\tif out_end_ix > len(sequence):\n",
    "\t\t\tbreak\n",
    "\t\t# gather input and output parts of the pattern\n",
    "\t\tseq_x, seq_y = sequence[i:end_ix], sequence[end_ix:out_end_ix]\n",
    "\t\tX.append(seq_x)\n",
    "\t\ty.append(seq_y)\n",
    "\treturn array(X), array(y)\n",
    "\n",
    "# define input sequence\n",
    "raw_seq = np.array([e+elev for e in w[:, xc, yc]])\n",
    "# choose a number of time steps\n",
    "n_steps_in, n_steps_out = 24, 12\n",
    "# split into samples\n",
    "X, y = split_sequence(raw_seq, n_steps_in, n_steps_out)\n",
    "# reshape from [samples, timesteps] into [samples, timesteps, features]\n",
    "n_features = 1\n",
    "X = X.reshape((X.shape[0], X.shape[1], n_features))\n",
    "\n",
    "# define model\n",
    "model = Sequential()\n",
    "model.add(Conv1D(filters=64, kernel_size=6, activation=\"relu\", input_shape=(n_steps_in, n_features)))\n",
    "#model.add(MaxPooling1D(pool_size=2))\n",
    "model.add(Flatten())\n",
    "#model.add(Dense(64, activation='relu'))\n",
    "model.add(Dense(n_steps_out, activation='relu'))\n",
    "model.compile(optimizer=tf.keras.optimizers.Adam(learning_rate=0.002), loss=\"mse\")"
   ]
  },
  {
   "cell_type": "code",
   "execution_count": null,
   "metadata": {
    "colab": {
     "base_uri": "https://localhost:8080/"
    },
    "id": "AqyCB_zAAXTx",
    "outputId": "4acc8ad1-6722-47c2-f581-9f63219b8f8f"
   },
   "outputs": [
    {
     "name": "stdout",
     "output_type": "stream",
     "text": [
      "Model: \"sequential_16\"\n",
      "_________________________________________________________________\n",
      "Layer (type)                 Output Shape              Param #   \n",
      "=================================================================\n",
      "conv1d_16 (Conv1D)           (None, 19, 64)            448       \n",
      "_________________________________________________________________\n",
      "flatten_16 (Flatten)         (None, 1216)              0         \n",
      "_________________________________________________________________\n",
      "dense_16 (Dense)             (None, 12)                14604     \n",
      "=================================================================\n",
      "Total params: 15,052\n",
      "Trainable params: 15,052\n",
      "Non-trainable params: 0\n",
      "_________________________________________________________________\n"
     ]
    }
   ],
   "source": [
    "model.summary()"
   ]
  },
  {
   "cell_type": "code",
   "execution_count": null,
   "metadata": {
    "colab": {
     "base_uri": "https://localhost:8080/"
    },
    "id": "45eVg4FmAUFi",
    "outputId": "e55ebe17-28c7-4037-95e0-8dfe0a5bdbe8"
   },
   "outputs": [
    {
     "name": "stdout",
     "output_type": "stream",
     "text": [
      "WARNING:tensorflow:11 out of the last 11 calls to <function Model.make_predict_function.<locals>.predict_function at 0x7fa8fe1c8950> triggered tf.function retracing. Tracing is expensive and the excessive number of tracings could be due to (1) creating @tf.function repeatedly in a loop, (2) passing tensors with different shapes, (3) passing Python objects instead of tensors. For (1), please define your @tf.function outside of the loop. For (2), @tf.function has experimental_relax_shapes=True option that relaxes argument shapes that can avoid unnecessary retracing. For (3), please refer to https://www.tensorflow.org/tutorials/customization/performance#python_or_tensor_args and https://www.tensorflow.org/api_docs/python/tf/function for  more details.\n"
     ]
    }
   ],
   "source": [
    "# fit model\n",
    "model.fit(X, y, epochs=1500, verbose=0)\n",
    "\n",
    "# demonstrate prediction\n",
    "x_input = np.array([e+elev for e in w[-24:, xc, yc]])\n",
    "x_input = x_input.reshape((1, n_steps_in, n_features))\n",
    "yhat = model.predict(x_input, verbose=0)"
   ]
  },
  {
   "cell_type": "code",
   "execution_count": null,
   "metadata": {
    "colab": {
     "base_uri": "https://localhost:8080/"
    },
    "id": "SgJH1StSfGkg",
    "outputId": "df3d87f7-54ea-467a-a9d3-bf1e0bc89176"
   },
   "outputs": [
    {
     "data": {
      "text/plain": [
       "[57.846626,\n",
       " 54.84926,\n",
       " 50.421925,\n",
       " 36.022297,\n",
       " 25.516762,\n",
       " 23.131443,\n",
       " 20.226965,\n",
       " 12.199368,\n",
       " 4.8563023,\n",
       " 12.86101,\n",
       " 34.71439,\n",
       " 68.36354]"
      ]
     },
     "execution_count": 124,
     "metadata": {
      "tags": []
     },
     "output_type": "execute_result"
    }
   ],
   "source": [
    "Prev12M = [e+elev for e in w[-12:, xc, yc]]\n",
    "\n",
    "Prev12M"
   ]
  },
  {
   "cell_type": "code",
   "execution_count": null,
   "metadata": {
    "colab": {
     "base_uri": "https://localhost:8080/"
    },
    "id": "dbDQ97dktIff",
    "outputId": "b85c5287-d0b3-47da-af24-2c13428454e0"
   },
   "outputs": [
    {
     "name": "stdout",
     "output_type": "stream",
     "text": [
      "85.51656\n",
      "1.9402977\n",
      "\n",
      "Harirampur\n"
     ]
    },
    {
     "data": {
      "text/plain": [
       "[85.51656341552734,\n",
       " 70.71150970458984,\n",
       " 50.05242156982422,\n",
       " 37.78590774536133,\n",
       " 17.202346801757812,\n",
       " 5.389642715454102,\n",
       " 1.9402977228164673,\n",
       " 12.844430923461914,\n",
       " 17.549715042114258,\n",
       " 18.95379066467285,\n",
       " 30.784414291381836,\n",
       " 53.87975311279297]"
      ]
     },
     "execution_count": 125,
     "metadata": {
      "tags": []
     },
     "output_type": "execute_result"
    }
   ],
   "source": [
    "ymax, ymin, predictions = yhat[0].max(), yhat[0].min(), yhat[0].tolist()\n",
    "\n",
    "print(ymax)\n",
    "print(str(ymin) + \"\\n\")\n",
    "print(loc)\n",
    "predictions"
   ]
  },
  {
   "cell_type": "markdown",
   "metadata": {},
   "source": [
    "## Make an average collection of predictios"
   ]
  },
  {
   "cell_type": "code",
   "execution_count": null,
   "metadata": {
    "colab": {
     "base_uri": "https://localhost:8080/"
    },
    "id": "_W6NBUTV5VSH",
    "outputId": "3b60a136-de14-4526-d943-bc8fce9084ae"
   },
   "outputs": [
    {
     "name": "stdout",
     "output_type": "stream",
     "text": [
      "Predicted 17 times\n"
     ]
    },
    {
     "data": {
      "text/plain": [
       "[83.37566241575405,\n",
       " 68.10781823430443,\n",
       " 46.66033368738135,\n",
       " 31.250284317298792,\n",
       " 15.193101763710729,\n",
       " 6.688665953792224,\n",
       " 6.897194126224349,\n",
       " 15.26225351508765,\n",
       " 20.40602161566494,\n",
       " 21.289049958024407,\n",
       " 30.435730018507456,\n",
       " 47.45964926073793]"
      ]
     },
     "execution_count": 126,
     "metadata": {
      "tags": []
     },
     "output_type": "execute_result"
    }
   ],
   "source": [
    "if RUN == 0:\n",
    "  final = [0.0 for e in predictions]\n",
    "  final = [sum(x) for x in zip(final, predictions)]\n",
    "  RUN = RUN + 1\n",
    "else:\n",
    "  final = [sum(x)/2 for x in zip(final, predictions)]\n",
    "  RUN = RUN + 1\n",
    "\n",
    "print(\"Predicted \" + str(RUN) + \" times\")\n",
    "final"
   ]
  },
  {
   "cell_type": "markdown",
   "metadata": {
    "id": "IopDiTvYS1lO"
   },
   "source": [
    "## Final values"
   ]
  },
  {
   "cell_type": "code",
   "execution_count": null,
   "metadata": {
    "colab": {
     "base_uri": "https://localhost:8080/",
     "height": 338
    },
    "id": "cWQ8n52e_Xh_",
    "outputId": "8efaa3ab-d96c-4ac8-f74e-b9865d21d697"
   },
   "outputs": [
    {
     "name": "stdout",
     "output_type": "stream",
     "text": [
      "Predicted 17 times\n",
      "83.37566241575405\n",
      "6.688665953792224\n",
      "\n",
      "\"Harirampur\" : \n"
     ]
    },
    {
     "data": {
      "text/plain": [
       "[83.37566241575405,\n",
       " 68.10781823430443,\n",
       " 46.66033368738135,\n",
       " 31.250284317298792,\n",
       " 15.193101763710729,\n",
       " 6.688665953792224,\n",
       " 6.897194126224349,\n",
       " 15.26225351508765,\n",
       " 20.40602161566494,\n",
       " 21.289049958024407,\n",
       " 30.435730018507456,\n",
       " 47.45964926073793]"
      ]
     },
     "execution_count": 127,
     "metadata": {
      "tags": []
     },
     "output_type": "execute_result"
    }
   ],
   "source": [
    "# final averaged predictions\n",
    "\n",
    "fmax, fmin = np.array(final).max(), np.array(final).min()\n",
    "\n",
    "print(\"Predicted \" + str(RUN) + \" times\")\n",
    "print(fmax)\n",
    "print(str(fmin) + \"\\n\")\n",
    "print(\"\\\"\"+loc+\"\\\" : \")\n",
    "final"
   ]
  },
  {
   "cell_type": "code",
   "execution_count": null,
   "metadata": {
    "id": "qaU3qE_acS5v"
   },
   "outputs": [],
   "source": [
    "Next12M = {\n",
    "    \"Harirampur\" : [83.37566241575405,\n",
    " 68.10781823430443,\n",
    " 46.66033368738135,\n",
    " 31.250284317298792,\n",
    " 15.193101763710729,\n",
    " 6.688665953792224,\n",
    " 6.897194126224349,\n",
    " 15.26225351508765,\n",
    " 20.40602161566494,\n",
    " 21.289049958024407,\n",
    " 30.435730018507456,\n",
    " 47.45964926073793],\n",
    "    \"Char Bhadrasan\" : [80.71582370019678,\n",
    " 64.45147470239317,\n",
    " 47.4994008244139,\n",
    " 27.414131754469963,\n",
    " 14.777316424215542,\n",
    " 5.779952143052924,\n",
    " 6.362640218538218,\n",
    " 8.503402656722642,\n",
    " 19.39567007214282,\n",
    " 26.145970935112928,\n",
    " 38.080850218791966,\n",
    " 47.923729835769336],\n",
    "    \"Bhairab\" : [92.76574045419693,\n",
    " 85.53009076416492,\n",
    " 61.293516740202904,\n",
    " 40.09601981192827,\n",
    " 26.129730135202408,\n",
    " 18.39254019409418,\n",
    " 7.884874705225229,\n",
    " 11.734869399573654,\n",
    " 26.62385232001543,\n",
    " 38.101862378418446,\n",
    " 50.934791542589664,\n",
    " 73.4457064718008],\n",
    "    \"Belkuchi\" : [65.43549466133118,\n",
    " 57.81847321987152,\n",
    " 41.981318950653076,\n",
    " 25.848386257886887,\n",
    " 22.760776847600937,\n",
    " 24.180132552981377,\n",
    " 6.844019219279289,\n",
    " 18.692757785320282,\n",
    " 32.48228847980499,\n",
    " 38.29881113767624,\n",
    " 42.47589319944382,\n",
    " 53.15636157989502],\n",
    "    \"Kazipur\" : [75.8254815086666,\n",
    " 58.415705766317096,\n",
    " 32.01911318464689,\n",
    " 10.532982360453403,\n",
    " 6.6451897275797,\n",
    " 5.599301043576381,\n",
    " 1.1936809986363917,\n",
    " 18.94305079976961,\n",
    " 49.50866488577469,\n",
    " 61.255045159823716,\n",
    " 50.941823546632996,\n",
    " 37.664123059579346],\n",
    "    \"Islampur\" : [81.08903377996467,\n",
    " 55.12918073878245,\n",
    " 28.193739237573027,\n",
    " 13.887987718298973,\n",
    " 3.404777561086121,\n",
    " 4.977645838659555,\n",
    " 3.2189345254382715,\n",
    " 19.308210690305714,\n",
    " 48.980617966466525,\n",
    " 64.22145823459869,\n",
    " 48.09792255736829,\n",
    " 37.990922936442075],\n",
    "    \"Tarakandi\" : [84.1515289824456,\n",
    " 64.12938704201952,\n",
    " 30.719740419182926,\n",
    " 12.339830142911524,\n",
    " 9.744849334820174,\n",
    " 3.729831181903137,\n",
    " 6.120846617617644,\n",
    " 23.20267743052682,\n",
    " 43.487701014149934,\n",
    " 57.79576760157943,\n",
    " 57.343095482792705,\n",
    " 44.87807603972033],\n",
    "    \"Sunamganj\" : [82.44949231296778,\n",
    " 72.87413647770882,\n",
    " 46.74524584040046,\n",
    " 28.76473619788885,\n",
    " 9.811822448857129,\n",
    " 3.7647783951833844,\n",
    " 4.340537782758474,\n",
    " 6.313884114380926,\n",
    " 44.30940032750368,\n",
    " 63.31514361128211,\n",
    " 63.17005091533065,\n",
    " 64.71387718245387],\n",
    "    \"Balinga\" : [79.61154901071131,\n",
    " 74.56208812406476,\n",
    " 60.06174039722828,\n",
    " 39.861757088567174,\n",
    " 27.361492887253007,\n",
    " 20.06723764887647,\n",
    " 11.285489656978825,\n",
    " 3.9204509408138506,\n",
    " 23.046171237906947,\n",
    " 33.68371448007019,\n",
    " 50.75960865702109,\n",
    " 64.38164805951237],\n",
    "    \"Atrai\" : [69.34085276616679,\n",
    " 56.9931471075397,\n",
    " 36.7508026021751,\n",
    " 22.552473047860985,\n",
    " 12.262031623784424,\n",
    " 14.81468595503884,\n",
    " 8.716837317512272,\n",
    " 26.57263489950128,\n",
    " 31.985794663782144,\n",
    " 41.55651758759632,\n",
    " 44.00163923650689,\n",
    " 47.995317956498184],\n",
    "    \"Naogaon\" : [70.01910763955675,\n",
    " 62.79368197027361,\n",
    " 35.267329587368295,\n",
    " 15.19845852110302,\n",
    " 15.22792416716402,\n",
    " 9.843754888919648,\n",
    " 3.9769008766415936,\n",
    " 26.116543400348746,\n",
    " 37.52913634953438,\n",
    " 22.453295559622347,\n",
    " 46.655036418524105,\n",
    " 48.998413856024854],\n",
    "    \"Mohadevpur\" : [66.41108023526613,\n",
    " 55.030660681193694,\n",
    " 39.30752526392462,\n",
    " 24.467732183780754,\n",
    " 16.51312490804412,\n",
    " 10.698321891657542,\n",
    " 6.25928350319009,\n",
    " 26.105978354782565,\n",
    " 36.32635830598883,\n",
    " 38.95868481800426,\n",
    " 37.74268990266137,\n",
    " 43.91615949769039],\n",
    "    \"Kamarkhali\" : [81.13771277666092,\n",
    " 66.32918602228165,\n",
    " 40.287062384188175,\n",
    " 23.498603258281946,\n",
    " 9.791521093808115,\n",
    " 5.090513443574309,\n",
    " 8.504864090122283,\n",
    " 16.364825977012515,\n",
    " 19.997877690941095,\n",
    " 27.15374445915222,\n",
    " 36.082820288836956,\n",
    " 52.0763935148716],\n",
    "    \"Bhagyakul\" : [77.47495194897056,\n",
    " 65.22943885810673,\n",
    " 49.311301128938794,\n",
    " 28.807174157351255,\n",
    " 11.526218730956316,\n",
    " 9.069746691500768,\n",
    " 11.37678056024015,\n",
    " 14.118413474876434,\n",
    " 18.712198132183403,\n",
    " 23.863998474087566,\n",
    " 29.040098344907165,\n",
    " 48.443070827052],\n",
    "    \"Goalanda\" : [75.96311669796705,\n",
    " 65.10154354572296,\n",
    " 48.34109588712454,\n",
    " 29.063707657158375,\n",
    " 16.403027184307575,\n",
    " 13.001834093593061,\n",
    " 12.203746506012976,\n",
    " 9.935860390774906,\n",
    " 11.469066189602017,\n",
    " 20.34034239128232,\n",
    " 29.7537951618433,\n",
    " 46.44406292960048],\n",
    "    \"Hatibanda\" : [19.82246546447277,\n",
    " 15.640085309743881,\n",
    " 2.3458240926265717,\n",
    " 8.750309348106384,\n",
    " 24.716756403446198,\n",
    " 34.25593752413988,\n",
    " 4.168946597725153,\n",
    " 17.8434170037508,\n",
    " 17.607005504425615,\n",
    " 47.19111433625221,\n",
    " 73.94486191868782,\n",
    " 26.20453980192542],\n",
    "    \"Kakina\" : [54.69654580950737,\n",
    " 32.4006912112236,\n",
    " 13.674270648509264,\n",
    " 4.948430173099041,\n",
    " 6.885215245187283,\n",
    " 0.21413185447454453,\n",
    " 0.0,\n",
    " 22.92406715452671,\n",
    " 61.07412472367287,\n",
    " 72.67081344127655,\n",
    " 61.93119993805885,\n",
    " 37.70812730491161],\n",
    "    \"Nageshwari\" : [57.27353096008301,\n",
    " 36.84248065948486,\n",
    " 12.545114994049072,\n",
    " 3.36492657661438,\n",
    " 10.221299171447754,\n",
    " 1.3871290683746338,\n",
    " 0.0,\n",
    " 13.7675461769104,\n",
    " 59.84200859069824,\n",
    " 72.63076400756836,\n",
    " 69.13946151733398,\n",
    " 37.448668479919434],\n",
    "     \"Rowmari\" : [71.9682731628418,\n",
    " 40.49336051940918,\n",
    " 29.13720989227295,\n",
    " 23.893017768859863,\n",
    " 7.182333469390869,\n",
    " 0.0,\n",
    " 0.0,\n",
    " 27.246127128601074,\n",
    " 67.87415313720703,\n",
    " 70.97156715393066,\n",
    " 51.36223602294922,\n",
    " 38.178720474243164],\n",
    " \"Ulipur\" : [43.33977937698364,\n",
    " 29.74267578125,\n",
    " 7.088576540350914,\n",
    " 7.87835693359375,\n",
    " 5.2287837266922,\n",
    " 0.6866019368171692,\n",
    " 0.0,\n",
    " 18.019670724868774,\n",
    " 53.513662815093994,\n",
    " 69.45811748504639,\n",
    " 64.53265523910522,\n",
    " 27.0439236164093],\n",
    " \"Chilmari\" : [52.630002930760384,\n",
    " 26.67014385201037,\n",
    " 11.280132064595819,\n",
    " 1.79543881455902,\n",
    " 15.348645506892353,\n",
    " 4.419343572575599,\n",
    " 0.0,\n",
    " 12.826442742720246,\n",
    " 45.84507818520069,\n",
    " 62.81911766529083,\n",
    " 67.33414650335908,\n",
    " 34.54388199746609],\n",
    " \"Kharkharia\" : [59.48935332894325,\n",
    " 29.551391288638115,\n",
    " 13.220338113605976,\n",
    " 8.495796166360378,\n",
    " 8.115448907017708,\n",
    " 1.1281001511961222,\n",
    " 0.22686901688575745,\n",
    " 24.859148047864437,\n",
    " 40.88560751080513,\n",
    " 68.9762496650219,\n",
    " 66.24917623400688,\n",
    " 27.740341693162918],\n",
    " \"Polashi\" : [64.25638686865568,\n",
    " 39.35907119931653,\n",
    " 16.482505910098553,\n",
    " 12.321766234003007,\n",
    " 5.870259107556194,\n",
    " 0.780464768409729,\n",
    " 0.0,\n",
    " 17.297518538311124,\n",
    " 52.01433837413788,\n",
    " 69.66305308043957,\n",
    " 62.5959839373827,\n",
    " 36.51613324135542],\n",
    "}"
   ]
  },
  {
   "cell_type": "code",
   "execution_count": null,
   "metadata": {
    "id": "qnH0YFMjeK8Z"
   },
   "outputs": [],
   "source": [
    "import json\n",
    "\n",
    "with open('Next12M.json', 'w') as json_file:\n",
    "  json.dump(Next12M, json_file)"
   ]
  },
  {
   "cell_type": "markdown",
   "metadata": {},
   "source": [
    "This work was done by **Shahriar Shanto** <br>\n",
    "for NASA Space Apps Challenge 2020 <br>\n",
    "https://flood-predict.herokuapp.com"
   ]
  },
  {
   "cell_type": "code",
   "execution_count": null,
   "metadata": {
    "id": "8WuA6jmfeUWx"
   },
   "outputs": [],
   "source": []
  }
 ],
 "metadata": {
  "accelerator": "GPU",
  "colab": {
   "collapsed_sections": [
    "y_bUBdyBl0qQ",
    "RM1BYQ05lrP2",
    "LyOT1kwXSk-4"
   ],
   "name": "GRACE.ipynb",
   "provenance": []
  },
  "kernelspec": {
   "display_name": "Python 3",
   "language": "python",
   "name": "python3"
  },
  "language_info": {
   "codemirror_mode": {
    "name": "ipython",
    "version": 3
   },
   "file_extension": ".py",
   "mimetype": "text/x-python",
   "name": "python",
   "nbconvert_exporter": "python",
   "pygments_lexer": "ipython3",
   "version": "3.8.5"
  }
 },
 "nbformat": 4,
 "nbformat_minor": 1
}
