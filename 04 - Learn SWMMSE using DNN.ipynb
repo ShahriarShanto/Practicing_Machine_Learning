{
 "cells": [
  {
   "cell_type": "markdown",
   "metadata": {
    "id": "4lXDm64Jyryj"
   },
   "source": [
    "### This project tries to model the SWMMSE algorithm for Wireless Power Control using Neural Networks, implemented with TensorFlow in Python."
   ]
  },
  {
   "cell_type": "markdown",
   "metadata": {
    "id": "EhSIe1phyj3z"
   },
   "source": [
    "First, let's select TensorFlow version 1.x"
   ]
  },
  {
   "cell_type": "code",
   "execution_count": null,
   "metadata": {
    "colab": {
     "base_uri": "https://localhost:8080/"
    },
    "id": "_D5UHtYfo3lF",
    "outputId": "68568910-4cc5-4875-b018-d9f8d200e962"
   },
   "outputs": [
    {
     "name": "stdout",
     "output_type": "stream",
     "text": [
      "TensorFlow 1.x selected.\n"
     ]
    }
   ],
   "source": [
    "%tensorflow_version 1.x"
   ]
  },
  {
   "cell_type": "markdown",
   "metadata": {
    "id": "iR1AfU-TorCD"
   },
   "source": [
    "SWMMSE Algorithm:"
   ]
  },
  {
   "cell_type": "code",
   "execution_count": null,
   "metadata": {
    "id": "LEi6QuZ3ojPW"
   },
   "outputs": [],
   "source": [
    "import numpy as np\n",
    "import math\n",
    "\n",
    "def SWMMSE(p_int, H, Pmax, var_noise):\n",
    "    N = np.size(p_int)\n",
    "    vnew = 0\n",
    "    v = np.sqrt(p_int)\n",
    "    u = np.zeros(N)\n",
    "    w = np.zeros(N)\n",
    "    a = np.zeros(N)\n",
    "    b = np.zeros(N)\n",
    "    VV = np.zeros(100)\n",
    "    for iter in range(100):\n",
    "        vold = vnew\n",
    "        vnew = 0\n",
    "        for i in range(N):\n",
    "            u[i] = H[i, i] * v[i] / ((np.square(H[i, :])) @ (np.square(v)) + var_noise)\n",
    "            w[i] = 1 / (1 - u[i] * v[i] * H[i, i])\n",
    "            vnew = vnew + math.log2(w[i])\n",
    "        for i in range(N):\n",
    "            a[i] = a[i] + sum(w * np.square(u) * np.square(H[:, i]))\n",
    "            b[i] = b[i] + w[i] * u[i] * H[i, i]\n",
    "            btmp = b[i]/a[i]\n",
    "            v[i] = min(btmp, np.sqrt(Pmax)) + max(btmp, 0) - btmp\n",
    "        VV[iter] = vnew\n",
    "        if vnew - vold <= 1e-2:\n",
    "            break\n",
    "    p_opt = np.square(v)\n",
    "    return p_opt"
   ]
  },
  {
   "cell_type": "markdown",
   "metadata": {
    "id": "Hun6HVC3of_t"
   },
   "source": [
    "Code for Wireless Channel:"
   ]
  },
  {
   "cell_type": "code",
   "execution_count": null,
   "metadata": {
    "id": "u8WvgtOHoX7g"
   },
   "outputs": [],
   "source": [
    "import numpy as np\n",
    "import time\n",
    "\n",
    "def channel(N, num_train, Pmax=1, Pmin=0, var_noise=1, seed=1758):\n",
    "    print('Generate Data ... (seed = %d)' % seed)\n",
    "    np.random.seed(seed)\n",
    "    Pini = Pmax * np.ones(N)\n",
    "    X = np.zeros((N ** 2, num_train))\n",
    "    Y = np.zeros((num_train, N ))\n",
    "    X_t = np.zeros((num_train, N, N))\n",
    "    total_time = 0.0\n",
    "    for loop in range(num_train):\n",
    "        CH = 1 / np.sqrt(2) * (np.random.randn(N, N) + 1j * np.random.randn(N, N))\n",
    "        H = abs(CH)\n",
    "        X[:, loop] = np.reshape(H, (N ** 2,), order=\"F\")\n",
    "        H = np.reshape(X[:, loop], (N, N), order=\"F\")\n",
    "        X_t[loop, :, :] = H\n",
    "        mid_time = time.time()\n",
    "        Y[loop, :] = SWMMSE(Pini, H, Pmax, var_noise)\n",
    "        total_time = total_time + time.time() - mid_time\n",
    "    return X_t, Y, total_time"
   ]
  },
  {
   "cell_type": "markdown",
   "metadata": {
    "id": "P9QHzdp8oJsX"
   },
   "source": [
    "Generate Data:"
   ]
  },
  {
   "cell_type": "code",
   "execution_count": null,
   "metadata": {
    "colab": {
     "base_uri": "https://localhost:8080/"
    },
    "id": "W0ONHMWwqLAw",
    "outputId": "725f11a1-5b57-46c4-cd58-2228c34bc94e"
   },
   "outputs": [
    {
     "name": "stdout",
     "output_type": "stream",
     "text": [
      "/content\n",
      "data  sample_data\n"
     ]
    }
   ],
   "source": [
    "!mkdir -p /content/data\n",
    "!pwd\n",
    "!ls"
   ]
  },
  {
   "cell_type": "code",
   "execution_count": null,
   "metadata": {
    "colab": {
     "base_uri": "https://localhost:8080/"
    },
    "id": "vtEhhiGYoCWO",
    "outputId": "5849d7ea-5f7f-42c3-bc9d-15e472d200bb"
   },
   "outputs": [
    {
     "name": "stdout",
     "output_type": "stream",
     "text": [
      "Generate Data ... (seed = 25)\n",
      "Generate Data ... (seed = 20)\n",
      "Train data Saved\n",
      "Test data Saved\n"
     ]
    }
   ],
   "source": [
    "import scipy.io as sio\n",
    "import numpy as np\n",
    "import matplotlib.pyplot as plt\n",
    "import math\n",
    "\n",
    "import time\n",
    "\n",
    "N = 10\n",
    "num_train = 100000\n",
    "num_test = 10000\n",
    "trainseed = 25\n",
    "testseed = 20\n",
    "\n",
    "Xtrain, Ytrain, wtime = channel(N, num_train, seed=trainseed)\n",
    "X, Y, swmmsetime = channel(N, num_test, seed=testseed)\n",
    "\n",
    "sio.savemat('data/Train_data_%d_%d.mat' %(N, num_train), {'Xtrain': Xtrain, 'Ytrain': Ytrain})\n",
    "print(\"Train data Saved\")\n",
    "sio.savemat('data/Test_data_%d_%d.mat' %(N, num_test), {'Xtest': X, 'Ytest': Y, 'swmmsetime': swmmsetime})\n",
    "print(\"Test data Saved\")"
   ]
  },
  {
   "cell_type": "markdown",
   "metadata": {
    "id": "2dsKe4BgsFhn"
   },
   "source": [
    "Model Training and Testing"
   ]
  },
  {
   "cell_type": "code",
   "execution_count": null,
   "metadata": {
    "colab": {
     "base_uri": "https://localhost:8080/"
    },
    "id": "Wyw5G-Q_oulW",
    "outputId": "3d9227a0-943d-4f7f-dd12-9c7ccee1dbcc"
   },
   "outputs": [
    {
     "name": "stdout",
     "output_type": "stream",
     "text": [
      "\n",
      " 0   0.178034   0.183518   1.547204 \n",
      "#\n",
      " 2   0.107226   0.109330   4.478600 \n",
      "#\n",
      " 4   0.107052   0.100390   7.373577 \n",
      "#\n",
      " 6   0.104224   0.098696   10.249271 \n",
      "#\n",
      " 8   0.093052   0.097684   13.090625 \n",
      "#\n",
      " 10   0.096959   0.096959   15.985299 \n",
      "#\n",
      " 12   0.096432   0.097267   18.848364 \n",
      "#\n",
      " 14   0.099664   0.097527   21.781546 \n",
      "#\n",
      " 16   0.093456   0.096988   24.641989 \n",
      "#\n",
      " 18   0.096282   0.096453   27.496976 \n",
      "#\n",
      " 20   0.096758   0.096663   30.460558 \n",
      "#\n",
      " 22   0.092054   0.096438   33.385869 \n",
      "#\n",
      " 24   0.094420   0.096132   36.309299 \n",
      "#\n",
      " 26   0.102367   0.096343   39.193704 \n",
      "#\n",
      " 28   0.093838   0.095906   42.029695 \n",
      "#\n",
      " 30   0.099828   0.096139   44.898895 \n",
      "#\n",
      " 32   0.092368   0.096612   47.774128 \n",
      "#\n",
      " 34   0.099010   0.095582   50.648354 \n",
      "#\n",
      " 36   0.084688   0.095818   53.525236 \n",
      "#\n",
      " 38   0.090047   0.095158   56.429724 \n",
      "#\n",
      " 40   0.092198   0.095871   59.346645 \n",
      "#\n",
      " 42   0.096812   0.095110   62.208328 \n",
      "#\n",
      " 44   0.091742   0.094901   65.080937 \n",
      "#\n",
      " 46   0.095421   0.094752   67.929825 \n",
      "#\n",
      " 48   0.095630   0.094596   70.770688 \n",
      "#\n",
      " 50   0.094222   0.094252   73.619501 \n",
      "#\n",
      " 52   0.089396   0.093942   76.484651 \n",
      "#\n",
      " 54   0.089621   0.093998   79.333782 \n",
      "#\n",
      " 56   0.089958   0.094057   82.194227 \n",
      "#\n",
      " 58   0.095788   0.093606   85.073176 \n",
      "#\n",
      " 60   0.093168   0.093884   87.942460 \n",
      "#\n",
      " 62   0.095295   0.093002   90.877215 \n",
      "#\n",
      " 64   0.090088   0.093435   93.837466 \n",
      "#\n",
      " 66   0.092712   0.092903   96.842400 \n",
      "#\n",
      " 68   0.089869   0.092614   99.780363 \n",
      "#\n",
      " 70   0.091992   0.092599   102.715374 \n",
      "#\n",
      " 72   0.086732   0.092310   105.650200 \n",
      "#\n",
      " 74   0.093934   0.092200   108.515496 \n",
      "#\n",
      " 76   0.095278   0.091783   111.403100 \n",
      "#\n",
      " 78   0.085000   0.091890   114.259737 \n",
      "#\n",
      " 80   0.091683   0.091649   117.172807 \n",
      "#\n",
      " 82   0.091017   0.091173   120.058420 \n",
      "#\n",
      " 84   0.085776   0.091201   122.879683 \n",
      "#\n",
      " 86   0.086244   0.091057   125.732438 \n",
      "#\n",
      " 88   0.089296   0.090783   128.545249 \n",
      "#\n",
      " 90   0.087505   0.090651   131.366201 \n",
      "#\n",
      " 92   0.085705   0.090351   134.217519 \n",
      "#\n",
      " 94   0.088565   0.090204   137.085396 \n",
      "#\n",
      " 96   0.086756   0.090349   139.954347 \n",
      "#\n",
      " 98   0.085485   0.089877   142.835894 \n",
      "#training time: 144.24 s\n",
      "(10000, 10)\n",
      "Average rate for DNN 2.3325402096108947 bits per second\n",
      "Average rate for SWMMSE 2.674316047247598 bits per second\n",
      "87.220066% in 0.031563 sec time\n"
     ]
    }
   ],
   "source": [
    "import scipy.io as sio\n",
    "import numpy as np\n",
    "\n",
    "import tensorflow as tf\n",
    "import time\n",
    "\n",
    "N = 10\n",
    "num_train = 100000\n",
    "num_test = 10000\n",
    "epochs = 100\n",
    "batch_size = 256\n",
    "learning_rate = 0.0001\n",
    "\n",
    "var = 1\n",
    "\n",
    "load = sio.loadmat('data/Train_data_%d_%d.mat' % (N, num_train))\n",
    "loadTest = sio.loadmat('data/Test_data_%d_%d.mat' % (N, num_test))\n",
    "Htrain = load['Xtrain']\n",
    "Ptrain = load['Ytrain']\n",
    "H_test = loadTest['Xtest']\n",
    "P_test = loadTest['Ytest']\n",
    "timeW = loadTest['swmmsetime']\n",
    "\n",
    "weights = {\n",
    "    'w_1': tf.Variable(tf.random_normal([N*N, 100], stddev=0.1)),\n",
    "    'w_2': tf.Variable(tf.random_normal([100, 100], stddev=0.1)),\n",
    "    'w_3': tf.Variable(tf.random_normal([100, 100], stddev=0.1)),\n",
    "    'w_out': tf.Variable(tf.random_normal([100, N])),\n",
    "}\n",
    "\n",
    "biases = {\n",
    "\n",
    "    'b_1': tf.Variable(tf.random_normal([100], stddev=0.1)),\n",
    "    'b_2': tf.Variable(tf.random_normal([100], stddev=0.1)),\n",
    "    'b_3': tf.Variable(tf.random_normal([100], stddev=0.1)),\n",
    "    'b_out': tf.Variable(tf.random_normal([N])),\n",
    "}\n",
    "\n",
    "def network(input_data):\n",
    "    h_layer_1 = tf.add(tf.matmul(input_data, weights['w_1']), biases['b_1'])  #h1 = wx+b\n",
    "    h_layer_1 = tf.nn.relu(h_layer_1)\n",
    "\n",
    "    h_layer_2 = tf.add(tf.matmul(h_layer_1, weights['w_2']), biases['b_1'])\n",
    "    h_layer_2 = tf.nn.relu(h_layer_2)\n",
    "\n",
    "    h_layer_3 = tf.add(tf.matmul(h_layer_2, weights['w_3']), biases['b_3'])\n",
    "    h_layer_3 = tf.nn.relu(h_layer_3)\n",
    "\n",
    "    output = tf.matmul(h_layer_3, weights['w_out']) + biases['b_out']\n",
    "    output = tf.nn.relu6(output) / 6\n",
    "\n",
    "    return output\n",
    "\n",
    "valid_split = 0.1\n",
    "\n",
    "total_sample_size = num_train\n",
    "validation_sample_size = int(total_sample_size*valid_split)\n",
    "training_sample_size = total_sample_size - validation_sample_size\n",
    "\n",
    "Htrain = np.reshape(Htrain, (total_sample_size, N*N))\n",
    "number_input = N*N\n",
    "number_output = N\n",
    "\n",
    "H_train = Htrain[ 0:training_sample_size, :]\n",
    "P_train = Ptrain[0:training_sample_size, :]\n",
    "H_val = Htrain[training_sample_size:total_sample_size, :]\n",
    "P_val = Ptrain[training_sample_size:total_sample_size, :]\n",
    "\n",
    "x = tf.placeholder(tf.float32, [None, N*N])\n",
    "y = tf.placeholder(tf.float32, [None, N])\n",
    "\n",
    "total_batch = int(total_sample_size / batch_size)\n",
    "\n",
    "x_bar = network(x)\n",
    "loss = tf.reduce_mean(tf.square(x_bar - y))\n",
    "\n",
    "optimizer = tf.train.AdamOptimizer(learning_rate)\n",
    "objective = optimizer.minimize(loss)\n",
    "\n",
    "save_data = np.zeros((epochs, 3))\n",
    "\n",
    "session = tf.InteractiveSession()\n",
    "tf.global_variables_initializer().run()\n",
    "\n",
    "start_time = time.time()\n",
    "for e in range(epochs):\n",
    "    for b in range(total_batch):\n",
    "        batch = np.random.randint(training_sample_size, size=batch_size)\n",
    "        _, training_cost = session.run([objective, loss], feed_dict={x: H_train[batch, :], y: P_train[batch, :]})\n",
    "        save_data[e, 0] = training_cost\n",
    "    validation_cost = session.run(loss, feed_dict={x: H_val, y: P_val})\n",
    "    save_data[e, 1] = validation_cost\n",
    "    save_data[e, 2] = e\n",
    "    if (e % 2 == 0):\n",
    "        print('\\n %d ' % e, ' %f ' % (training_cost), ' %f ' % (validation_cost), ' %f ' % (time.time() - start_time), )\n",
    "    else:\n",
    "        print(\"#\", end=\"\")\n",
    "print(\"training time: %0.2f s\" % (time.time() - start_time))\n",
    "sio.savemat('MSETime_%d_%d_%d' % (N, batch_size, learning_rate * 10000), {'train': save_data[:, 0], 'validation': save_data[:, 1], 'epoch': save_data[:, 2]})\n",
    "\n",
    "start_time = time.time()\n",
    "H_test_r = np.reshape(H_test, (num_test, N*N))\n",
    "predicted_power = session.run(x_bar, feed_dict={x: H_test_r, y: P_test})\n",
    "pred_time = time.time()-start_time\n",
    "print(predicted_power.shape)\n",
    "predicted_power = np.reshape(predicted_power,(num_test,N))\n",
    "\n",
    "def IC_sum_rate(H, p, var_noise):\n",
    "    H = np.square(H)\n",
    "    fr = np.diag(H)*p\n",
    "    ag = np.dot(H,p) + var_noise - fr\n",
    "    y = np.sum(np.log(1+fr/ag) )\n",
    "    return y\n",
    "def np_sum_rate(X,Y):\n",
    "    avg = 0\n",
    "    n = X.shape[0]\n",
    "    for i in range(n):\n",
    "        avg += IC_sum_rate(X[i,:,:],Y[i,:],1)/n\n",
    "    return avg\n",
    "\n",
    "sum_rate_dnn = np_sum_rate(H_test,predicted_power)*np.log2(np.exp(1))\n",
    "sum_rate_swmmse = np_sum_rate(H_test,P_test)*np.log2(np.exp(1))\n",
    "\n",
    "print('Average rate for DNN', sum_rate_dnn, \"bits per second\")\n",
    "print('Average rate for SWMMSE', sum_rate_swmmse, \"bits per second\")\n",
    "print(\"%f%% in %f sec time\" % (sum_rate_dnn/sum_rate_swmmse*100, pred_time))"
   ]
  },
  {
   "cell_type": "code",
   "execution_count": null,
   "metadata": {
    "id": "Bd9SvWTyqy3W"
   },
   "outputs": [],
   "source": [
    "import scipy.io as sio\n",
    "import matplotlib.pyplot as plt\n",
    "\n",
    "PlotData = sio.loadmat(\"/content/MSETime_10_256_1\")\n",
    "\n",
    "epochs = PlotData['epoch'][0]\n",
    "train = PlotData['train'][0]\n",
    "vald = PlotData['validation'][0]"
   ]
  },
  {
   "cell_type": "code",
   "execution_count": null,
   "metadata": {
    "colab": {
     "base_uri": "https://localhost:8080/",
     "height": 320
    },
    "id": "f55h8cG4vkCL",
    "outputId": "ac2644eb-2817-40ef-9784-12550230e215"
   },
   "outputs": [
    {
     "data": {
      "image/png": "[encoded data removed]",
      "text/plain": [
       "<Figure size 720x360 with 1 Axes>"
      ]
     },
     "metadata": {
      "needs_background": "light",
      "tags": []
     },
     "output_type": "display_data"
    }
   ],
   "source": [
    "plt.figure(figsize=(10,5))\n",
    "plt.plot(train, label = \"Train Loss\")\n",
    "plt.plot(vald, label = \"Validation Loss\")\n",
    "plt.legend(fontsize=\"x-large\")\n",
    "plt.show()"
   ]
  },
  {
   "cell_type": "markdown",
   "metadata": {
    "id": "BJXPJgAMtEYk"
   },
   "source": [
    "This notebook contains the implementations of the following paper:\n",
    "\n",
    "M. H. Rahman and M. M. Mowla, \"**[A Deep Neural Network Based Optimization Approach for Wireless Resource Management](https://ieeexplore.ieee.org/document/9230822),**\" 2020 IEEE Region 10 Symposium (TENSYMP), Dhaka, Bangladesh, 2020, pp. 803-806, doi: 10.1109/TENSYMP50017.2020.9230822"
   ]
  },
  {
   "cell_type": "markdown",
   "metadata": {
    "id": "xKip-LWHtiOO"
   },
   "source": [
    "The work was done by <br>\n",
    "[**Next Generation Wireless Communication Lab**](https://sites.google.com/view/ruetete-ngwc/) <br>\n",
    "**Department of Electronics & Telecommunication Engineering (ETE)** <br>\n",
    "**Rajshahi University of Engineering & Technology (RUET)**\n",
    "\n",
    "**Shahriar Shanto** is a Research Student at this lab."
   ]
  },
  {
   "cell_type": "code",
   "execution_count": null,
   "metadata": {},
   "outputs": [],
   "source": []
  }
 ],
 "metadata": {
  "colab": {
   "collapsed_sections": [],
   "name": "learn-SWMMSE-using-DNN.ipynb",
   "provenance": [],
   "toc_visible": true
  },
  "kernelspec": {
   "display_name": "Python 3",
   "language": "python",
   "name": "python3"
  },
  "language_info": {
   "codemirror_mode": {
    "name": "ipython",
    "version": 3
   },
   "file_extension": ".py",
   "mimetype": "text/x-python",
   "name": "python",
   "nbconvert_exporter": "python",
   "pygments_lexer": "ipython3",
   "version": "3.8.5"
  }
 },
 "nbformat": 4,
 "nbformat_minor": 1
}
