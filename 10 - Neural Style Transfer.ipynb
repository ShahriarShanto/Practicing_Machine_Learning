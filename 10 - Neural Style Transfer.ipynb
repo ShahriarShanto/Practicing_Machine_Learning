{
 "cells": [
  {
   "cell_type": "markdown",
   "metadata": {
    "id": "Bw0sDKT5Nqh5"
   },
   "source": [
    "### Using this repo:\n",
    "https://github.com/cysmith/neural-style-tf"
   ]
  },
  {
   "cell_type": "code",
   "execution_count": null,
   "metadata": {
    "colab": {
     "base_uri": "https://localhost:8080/"
    },
    "id": "pdrNwJuBzyCE",
    "outputId": "b886d867-1bf6-432a-bc99-d11299d381fa"
   },
   "outputs": [
    {
     "name": "stdout",
     "output_type": "stream",
     "text": [
      "Cloning into 'neural-style-tf'...\n",
      "remote: Enumerating objects: 893, done.\u001b[K\n",
      "remote: Total 893 (delta 0), reused 0 (delta 0), pack-reused 893\u001b[K\n",
      "Receiving objects: 100% (893/893), 85.23 MiB | 11.42 MiB/s, done.\n",
      "Resolving deltas: 100% (451/451), done.\n",
      "Collecting tensorflow==1.15.0\n",
      "\u001b[?25l  Downloading https://files.pythonhosted.org/packages/3f/98/5a99af92fb911d7a88a0005ad55005f35b4c1ba8d75fba02df726cd936e6/tensorflow-1.15.0-cp36-cp36m-manylinux2010_x86_64.whl (412.3MB)\n",
      "\u001b[K     |████████████████████████████████| 412.3MB 42kB/s \n",
      "\u001b[?25hCollecting gast==0.2.2\n",
      "  Downloading https://files.pythonhosted.org/packages/4e/35/11749bf99b2d4e3cceb4d55ca22590b0d7c2c62b9de38ac4a4a7f4687421/gast-0.2.2.tar.gz\n",
      "Requirement already satisfied: keras-preprocessing>=1.0.5 in /usr/local/lib/python3.6/dist-packages (from tensorflow==1.15.0) (1.1.2)\n",
      "Requirement already satisfied: grpcio>=1.8.6 in /usr/local/lib/python3.6/dist-packages (from tensorflow==1.15.0) (1.33.2)\n",
      "Requirement already satisfied: google-pasta>=0.1.6 in /usr/local/lib/python3.6/dist-packages (from tensorflow==1.15.0) (0.2.0)\n",
      "Requirement already satisfied: astor>=0.6.0 in /usr/local/lib/python3.6/dist-packages (from tensorflow==1.15.0) (0.8.1)\n",
      "Requirement already satisfied: opt-einsum>=2.3.2 in /usr/local/lib/python3.6/dist-packages (from tensorflow==1.15.0) (3.3.0)\n",
      "Collecting tensorflow-estimator==1.15.1\n",
      "\u001b[?25l  Downloading https://files.pythonhosted.org/packages/de/62/2ee9cd74c9fa2fa450877847ba560b260f5d0fb70ee0595203082dafcc9d/tensorflow_estimator-1.15.1-py2.py3-none-any.whl (503kB)\n",
      "\u001b[K     |████████████████████████████████| 512kB 37.5MB/s \n",
      "\u001b[?25hRequirement already satisfied: numpy<2.0,>=1.16.0 in /usr/local/lib/python3.6/dist-packages (from tensorflow==1.15.0) (1.18.5)\n",
      "Requirement already satisfied: six>=1.10.0 in /usr/local/lib/python3.6/dist-packages (from tensorflow==1.15.0) (1.15.0)\n",
      "Requirement already satisfied: protobuf>=3.6.1 in /usr/local/lib/python3.6/dist-packages (from tensorflow==1.15.0) (3.12.4)\n",
      "Requirement already satisfied: termcolor>=1.1.0 in /usr/local/lib/python3.6/dist-packages (from tensorflow==1.15.0) (1.1.0)\n",
      "Requirement already satisfied: wheel>=0.26 in /usr/local/lib/python3.6/dist-packages (from tensorflow==1.15.0) (0.35.1)\n",
      "Requirement already satisfied: wrapt>=1.11.1 in /usr/local/lib/python3.6/dist-packages (from tensorflow==1.15.0) (1.12.1)\n",
      "Collecting tensorboard<1.16.0,>=1.15.0\n",
      "\u001b[?25l  Downloading https://files.pythonhosted.org/packages/1e/e9/d3d747a97f7188f48aa5eda486907f3b345cd409f0a0850468ba867db246/tensorboard-1.15.0-py3-none-any.whl (3.8MB)\n",
      "\u001b[K     |████████████████████████████████| 3.8MB 46.8MB/s \n",
      "\u001b[?25hRequirement already satisfied: absl-py>=0.7.0 in /usr/local/lib/python3.6/dist-packages (from tensorflow==1.15.0) (0.10.0)\n",
      "Collecting keras-applications>=1.0.8\n",
      "\u001b[?25l  Downloading https://files.pythonhosted.org/packages/71/e3/19762fdfc62877ae9102edf6342d71b28fbfd9dea3d2f96a882ce099b03f/Keras_Applications-1.0.8-py3-none-any.whl (50kB)\n",
      "\u001b[K     |████████████████████████████████| 51kB 5.5MB/s \n",
      "\u001b[?25hRequirement already satisfied: setuptools in /usr/local/lib/python3.6/dist-packages (from protobuf>=3.6.1->tensorflow==1.15.0) (50.3.2)\n",
      "Requirement already satisfied: markdown>=2.6.8 in /usr/local/lib/python3.6/dist-packages (from tensorboard<1.16.0,>=1.15.0->tensorflow==1.15.0) (3.3.3)\n",
      "Requirement already satisfied: werkzeug>=0.11.15 in /usr/local/lib/python3.6/dist-packages (from tensorboard<1.16.0,>=1.15.0->tensorflow==1.15.0) (1.0.1)\n",
      "Requirement already satisfied: h5py in /usr/local/lib/python3.6/dist-packages (from keras-applications>=1.0.8->tensorflow==1.15.0) (2.10.0)\n",
      "Requirement already satisfied: importlib-metadata; python_version < \"3.8\" in /usr/local/lib/python3.6/dist-packages (from markdown>=2.6.8->tensorboard<1.16.0,>=1.15.0->tensorflow==1.15.0) (2.0.0)\n",
      "Requirement already satisfied: zipp>=0.5 in /usr/local/lib/python3.6/dist-packages (from importlib-metadata; python_version < \"3.8\"->markdown>=2.6.8->tensorboard<1.16.0,>=1.15.0->tensorflow==1.15.0) (3.4.0)\n",
      "Building wheels for collected packages: gast\n",
      "  Building wheel for gast (setup.py) ... \u001b[?25l\u001b[?25hdone\n",
      "  Created wheel for gast: filename=gast-0.2.2-cp36-none-any.whl size=7542 sha256=ef2fa7ee8537369556179e1b29aed11b5303f7246a568c2c66340a7619a15d50\n",
      "  Stored in directory: /root/.cache/pip/wheels/5c/2e/7e/a1d4d4fcebe6c381f378ce7743a3ced3699feb89bcfbdadadd\n",
      "Successfully built gast\n",
      "\u001b[31mERROR: tensorflow-probability 0.11.0 has requirement gast>=0.3.2, but you'll have gast 0.2.2 which is incompatible.\u001b[0m\n",
      "Installing collected packages: gast, tensorflow-estimator, tensorboard, keras-applications, tensorflow\n",
      "  Found existing installation: gast 0.3.3\n",
      "    Uninstalling gast-0.3.3:\n",
      "      Successfully uninstalled gast-0.3.3\n",
      "  Found existing installation: tensorflow-estimator 2.3.0\n",
      "    Uninstalling tensorflow-estimator-2.3.0:\n",
      "      Successfully uninstalled tensorflow-estimator-2.3.0\n",
      "  Found existing installation: tensorboard 2.3.0\n",
      "    Uninstalling tensorboard-2.3.0:\n",
      "      Successfully uninstalled tensorboard-2.3.0\n",
      "  Found existing installation: tensorflow 2.3.0\n",
      "    Uninstalling tensorflow-2.3.0:\n",
      "      Successfully uninstalled tensorflow-2.3.0\n",
      "Successfully installed gast-0.2.2 keras-applications-1.0.8 tensorboard-1.15.0 tensorflow-1.15.0 tensorflow-estimator-1.15.1\n"
     ]
    }
   ],
   "source": [
    "!git clone https://github.com/cysmith/neural-style-tf.git\n",
    "!python -m pip install tensorflow==1.15.0"
   ]
  },
  {
   "cell_type": "code",
   "execution_count": null,
   "metadata": {
    "colab": {
     "base_uri": "https://localhost:8080/"
    },
    "id": "qNXvmB3h-2kl",
    "outputId": "7e9952b9-3abc-43c8-af09-6c1a823595a6"
   },
   "outputs": [
    {
     "name": "stdout",
     "output_type": "stream",
     "text": [
      "/content/neural-style-tf\n",
      "  % Total    % Received % Xferd  Average Speed   Time    Time     Time  Current\n",
      "                                 Dload  Upload   Total   Spent    Left  Speed\n",
      "100  510M  100  510M    0     0  16.8M      0  0:00:30  0:00:30 --:--:-- 17.9M\n"
     ]
    }
   ],
   "source": [
    "%cd /content/neural-style-tf/\n",
    "!curl https://www.vlfeat.org/matconvnet/models/imagenet-vgg-verydeep-19.mat -o imagenet-vgg-verydeep-19.mat"
   ]
  },
  {
   "cell_type": "code",
   "execution_count": null,
   "metadata": {
    "colab": {
     "base_uri": "https://localhost:8080/"
    },
    "id": "ILapzaGY__gb",
    "outputId": "a29cdc16-9028-45f7-beba-c9f4a4096ec4"
   },
   "outputs": [
    {
     "name": "stdout",
     "output_type": "stream",
     "text": [
      "\n",
      "Did you install the required dependencies? [y/n] \n",
      " > y\n",
      "\n",
      "Do you have a CUDA enabled GPU? [y/n] \n",
      " > y\n",
      "Rendering stylized image. This may take a while...\n",
      "\n",
      "---- RENDERING SINGLE IMAGE ----\n",
      "\n",
      "WARNING:tensorflow:From neural_style.py:550: The name tf.Session is deprecated. Please use tf.compat.v1.Session instead.\n",
      "\n",
      "2020-11-26 18:22:54.420875: I tensorflow/stream_executor/platform/default/dso_loader.cc:44] Successfully opened dynamic library libcuda.so.1\n",
      "2020-11-26 18:22:54.447770: I tensorflow/stream_executor/cuda/cuda_gpu_executor.cc:983] successful NUMA node read from SysFS had negative value (-1), but there must be at least one NUMA node, so returning NUMA node zero\n",
      "2020-11-26 18:22:54.448345: I tensorflow/core/common_runtime/gpu/gpu_device.cc:1618] Found device 0 with properties: \n",
      "name: Tesla P4 major: 6 minor: 1 memoryClockRate(GHz): 1.1135\n",
      "pciBusID: 0000:00:04.0\n",
      "2020-11-26 18:22:54.448646: I tensorflow/stream_executor/platform/default/dso_loader.cc:44] Successfully opened dynamic library libcudart.so.10.0\n",
      "2020-11-26 18:22:54.449923: I tensorflow/stream_executor/platform/default/dso_loader.cc:44] Successfully opened dynamic library libcublas.so.10.0\n",
      "2020-11-26 18:22:54.451059: I tensorflow/stream_executor/platform/default/dso_loader.cc:44] Successfully opened dynamic library libcufft.so.10.0\n",
      "2020-11-26 18:22:54.451427: I tensorflow/stream_executor/platform/default/dso_loader.cc:44] Successfully opened dynamic library libcurand.so.10.0\n",
      "2020-11-26 18:22:54.452871: I tensorflow/stream_executor/platform/default/dso_loader.cc:44] Successfully opened dynamic library libcusolver.so.10.0\n",
      "2020-11-26 18:22:54.453825: I tensorflow/stream_executor/platform/default/dso_loader.cc:44] Successfully opened dynamic library libcusparse.so.10.0\n",
      "2020-11-26 18:22:54.456879: I tensorflow/stream_executor/platform/default/dso_loader.cc:44] Successfully opened dynamic library libcudnn.so.7\n",
      "2020-11-26 18:22:54.456992: I tensorflow/stream_executor/cuda/cuda_gpu_executor.cc:983] successful NUMA node read from SysFS had negative value (-1), but there must be at least one NUMA node, so returning NUMA node zero\n",
      "2020-11-26 18:22:54.457592: I tensorflow/stream_executor/cuda/cuda_gpu_executor.cc:983] successful NUMA node read from SysFS had negative value (-1), but there must be at least one NUMA node, so returning NUMA node zero\n",
      "2020-11-26 18:22:54.458164: I tensorflow/core/common_runtime/gpu/gpu_device.cc:1746] Adding visible gpu devices: 0\n",
      "2020-11-26 18:22:54.458518: I tensorflow/core/platform/cpu_feature_guard.cc:142] Your CPU supports instructions that this TensorFlow binary was not compiled to use: AVX2 AVX512F FMA\n",
      "2020-11-26 18:22:54.462764: I tensorflow/core/platform/profile_utils/cpu_utils.cc:94] CPU Frequency: 2000160000 Hz\n",
      "2020-11-26 18:22:54.463069: I tensorflow/compiler/xla/service/service.cc:168] XLA service 0x3140bc0 initialized for platform Host (this does not guarantee that XLA will be used). Devices:\n",
      "2020-11-26 18:22:54.463097: I tensorflow/compiler/xla/service/service.cc:176]   StreamExecutor device (0): Host, Default Version\n",
      "2020-11-26 18:22:54.548082: I tensorflow/stream_executor/cuda/cuda_gpu_executor.cc:983] successful NUMA node read from SysFS had negative value (-1), but there must be at least one NUMA node, so returning NUMA node zero\n",
      "2020-11-26 18:22:54.548591: I tensorflow/compiler/xla/service/service.cc:168] XLA service 0x3140d80 initialized for platform CUDA (this does not guarantee that XLA will be used). Devices:\n",
      "2020-11-26 18:22:54.548624: I tensorflow/compiler/xla/service/service.cc:176]   StreamExecutor device (0): Tesla P4, Compute Capability 6.1\n",
      "2020-11-26 18:22:54.548792: I tensorflow/stream_executor/cuda/cuda_gpu_executor.cc:983] successful NUMA node read from SysFS had negative value (-1), but there must be at least one NUMA node, so returning NUMA node zero\n",
      "2020-11-26 18:22:54.549149: I tensorflow/core/common_runtime/gpu/gpu_device.cc:1618] Found device 0 with properties: \n",
      "name: Tesla P4 major: 6 minor: 1 memoryClockRate(GHz): 1.1135\n",
      "pciBusID: 0000:00:04.0\n",
      "2020-11-26 18:22:54.549212: I tensorflow/stream_executor/platform/default/dso_loader.cc:44] Successfully opened dynamic library libcudart.so.10.0\n",
      "2020-11-26 18:22:54.549239: I tensorflow/stream_executor/platform/default/dso_loader.cc:44] Successfully opened dynamic library libcublas.so.10.0\n",
      "2020-11-26 18:22:54.549260: I tensorflow/stream_executor/platform/default/dso_loader.cc:44] Successfully opened dynamic library libcufft.so.10.0\n",
      "2020-11-26 18:22:54.549282: I tensorflow/stream_executor/platform/default/dso_loader.cc:44] Successfully opened dynamic library libcurand.so.10.0\n",
      "2020-11-26 18:22:54.549300: I tensorflow/stream_executor/platform/default/dso_loader.cc:44] Successfully opened dynamic library libcusolver.so.10.0\n",
      "2020-11-26 18:22:54.549317: I tensorflow/stream_executor/platform/default/dso_loader.cc:44] Successfully opened dynamic library libcusparse.so.10.0\n",
      "2020-11-26 18:22:54.549336: I tensorflow/stream_executor/platform/default/dso_loader.cc:44] Successfully opened dynamic library libcudnn.so.7\n",
      "2020-11-26 18:22:54.549403: I tensorflow/stream_executor/cuda/cuda_gpu_executor.cc:983] successful NUMA node read from SysFS had negative value (-1), but there must be at least one NUMA node, so returning NUMA node zero\n",
      "2020-11-26 18:22:54.549819: I tensorflow/stream_executor/cuda/cuda_gpu_executor.cc:983] successful NUMA node read from SysFS had negative value (-1), but there must be at least one NUMA node, so returning NUMA node zero\n",
      "2020-11-26 18:22:54.550179: I tensorflow/core/common_runtime/gpu/gpu_device.cc:1746] Adding visible gpu devices: 0\n",
      "2020-11-26 18:22:54.550245: I tensorflow/stream_executor/platform/default/dso_loader.cc:44] Successfully opened dynamic library libcudart.so.10.0\n",
      "2020-11-26 18:22:54.551163: I tensorflow/core/common_runtime/gpu/gpu_device.cc:1159] Device interconnect StreamExecutor with strength 1 edge matrix:\n",
      "2020-11-26 18:22:54.551194: I tensorflow/core/common_runtime/gpu/gpu_device.cc:1165]      0 \n",
      "2020-11-26 18:22:54.551204: I tensorflow/core/common_runtime/gpu/gpu_device.cc:1178] 0:   N \n",
      "2020-11-26 18:22:54.551319: I tensorflow/stream_executor/cuda/cuda_gpu_executor.cc:983] successful NUMA node read from SysFS had negative value (-1), but there must be at least one NUMA node, so returning NUMA node zero\n",
      "2020-11-26 18:22:54.551767: I tensorflow/stream_executor/cuda/cuda_gpu_executor.cc:983] successful NUMA node read from SysFS had negative value (-1), but there must be at least one NUMA node, so returning NUMA node zero\n",
      "2020-11-26 18:22:54.552104: W tensorflow/core/common_runtime/gpu/gpu_bfc_allocator.cc:39] Overriding allow_growth setting because the TF_FORCE_GPU_ALLOW_GROWTH environment variable is set. Original config value was 0.\n",
      "2020-11-26 18:22:54.552142: I tensorflow/core/common_runtime/gpu/gpu_device.cc:1304] Created TensorFlow device (/job:localhost/replica:0/task:0/device:GPU:0 with 7123 MB memory) -> physical GPU (device: 0, name: Tesla P4, pci bus id: 0000:00:04.0, compute capability: 6.1)\n",
      "\n",
      "BUILDING VGG-19 NETWORK\n",
      "loading model weights...\n",
      "constructing layers...\n",
      "LAYER GROUP 1\n",
      "--conv1_1 | shape=(1, 384, 512, 64) | weights_shape=(3, 3, 3, 64)\n",
      "--relu1_1 | shape=(1, 384, 512, 64) | bias_shape=(64,)\n",
      "--conv1_2 | shape=(1, 384, 512, 64) | weights_shape=(3, 3, 64, 64)\n",
      "--relu1_2 | shape=(1, 384, 512, 64) | bias_shape=(64,)\n",
      "WARNING:tensorflow:From neural_style.py:325: The name tf.nn.avg_pool is deprecated. Please use tf.nn.avg_pool2d instead.\n",
      "\n",
      "--pool1   | shape=(1, 192, 256, 64)\n",
      "LAYER GROUP 2\n",
      "--conv2_1 | shape=(1, 192, 256, 128) | weights_shape=(3, 3, 64, 128)\n",
      "--relu2_1 | shape=(1, 192, 256, 128) | bias_shape=(128,)\n",
      "--conv2_2 | shape=(1, 192, 256, 128) | weights_shape=(3, 3, 128, 128)\n",
      "--relu2_2 | shape=(1, 192, 256, 128) | bias_shape=(128,)\n",
      "--pool2   | shape=(1, 96, 128, 128)\n",
      "LAYER GROUP 3\n",
      "--conv3_1 | shape=(1, 96, 128, 256) | weights_shape=(3, 3, 128, 256)\n",
      "--relu3_1 | shape=(1, 96, 128, 256) | bias_shape=(256,)\n",
      "--conv3_2 | shape=(1, 96, 128, 256) | weights_shape=(3, 3, 256, 256)\n",
      "--relu3_2 | shape=(1, 96, 128, 256) | bias_shape=(256,)\n",
      "--conv3_3 | shape=(1, 96, 128, 256) | weights_shape=(3, 3, 256, 256)\n",
      "--relu3_3 | shape=(1, 96, 128, 256) | bias_shape=(256,)\n",
      "--conv3_4 | shape=(1, 96, 128, 256) | weights_shape=(3, 3, 256, 256)\n",
      "--relu3_4 | shape=(1, 96, 128, 256) | bias_shape=(256,)\n",
      "--pool3   | shape=(1, 48, 64, 256)\n",
      "LAYER GROUP 4\n",
      "--conv4_1 | shape=(1, 48, 64, 512) | weights_shape=(3, 3, 256, 512)\n",
      "--relu4_1 | shape=(1, 48, 64, 512) | bias_shape=(512,)\n",
      "--conv4_2 | shape=(1, 48, 64, 512) | weights_shape=(3, 3, 512, 512)\n",
      "--relu4_2 | shape=(1, 48, 64, 512) | bias_shape=(512,)\n",
      "--conv4_3 | shape=(1, 48, 64, 512) | weights_shape=(3, 3, 512, 512)\n",
      "--relu4_3 | shape=(1, 48, 64, 512) | bias_shape=(512,)\n",
      "--conv4_4 | shape=(1, 48, 64, 512) | weights_shape=(3, 3, 512, 512)\n",
      "--relu4_4 | shape=(1, 48, 64, 512) | bias_shape=(512,)\n",
      "--pool4   | shape=(1, 24, 32, 512)\n",
      "LAYER GROUP 5\n",
      "--conv5_1 | shape=(1, 24, 32, 512) | weights_shape=(3, 3, 512, 512)\n",
      "--relu5_1 | shape=(1, 24, 32, 512) | bias_shape=(512,)\n",
      "--conv5_2 | shape=(1, 24, 32, 512) | weights_shape=(3, 3, 512, 512)\n",
      "--relu5_2 | shape=(1, 24, 32, 512) | bias_shape=(512,)\n",
      "--conv5_3 | shape=(1, 24, 32, 512) | weights_shape=(3, 3, 512, 512)\n",
      "--relu5_3 | shape=(1, 24, 32, 512) | bias_shape=(512,)\n",
      "--conv5_4 | shape=(1, 24, 32, 512) | weights_shape=(3, 3, 512, 512)\n",
      "--relu5_4 | shape=(1, 24, 32, 512) | bias_shape=(512,)\n",
      "--pool5   | shape=(1, 12, 16, 512)\n",
      "2020-11-26 18:22:59.295446: I tensorflow/stream_executor/platform/default/dso_loader.cc:44] Successfully opened dynamic library libcudnn.so.7\n",
      "2020-11-26 18:23:00.405183: I tensorflow/stream_executor/platform/default/dso_loader.cc:44] Successfully opened dynamic library libcublas.so.10.0\n",
      "WARNING:tensorflow:\n",
      "The TensorFlow contrib module will not be included in TensorFlow 2.0.\n",
      "For more information, please see:\n",
      "  * https://github.com/tensorflow/community/blob/master/rfcs/20180907-contrib-sunset.md\n",
      "  * https://github.com/tensorflow/addons\n",
      "  * https://github.com/tensorflow/io (for I/O related ops)\n",
      "If you depend on functionality not listed there, please file an issue.\n",
      "\n",
      "WARNING:tensorflow:From /usr/local/lib/python3.6/dist-packages/tensorflow_core/python/ops/math_grad.py:1375: where (from tensorflow.python.ops.array_ops) is deprecated and will be removed in a future version.\n",
      "Instructions for updating:\n",
      "Use tf.where in 2.0, which has the same broadcast rule as np.where\n",
      "\n",
      "MINIMIZING LOSS USING: L-BFGS OPTIMIZER\n",
      "WARNING:tensorflow:From neural_style.py:602: The name tf.global_variables_initializer is deprecated. Please use tf.compat.v1.global_variables_initializer instead.\n",
      "\n",
      "RUNNING THE L-BFGS-B CODE\n",
      "\n",
      "           * * *\n",
      "\n",
      "Machine precision = 2.220D-16\n",
      " N =       589824     M =           10\n",
      " This problem is unconstrained.\n",
      "\n",
      "At X0         0 variables are exactly at the bounds\n",
      "\n",
      "At iterate    0    f=  3.87706D+11    |proj g|=  2.00451D+06\n",
      "\n",
      "At iterate   50    f=  2.49333D+09    |proj g|=  2.55780D+04\n",
      "\n",
      "At iterate  100    f=  1.50809D+09    |proj g|=  6.87773D+03\n",
      "\n",
      "At iterate  150    f=  1.20707D+09    |proj g|=  4.05858D+03\n",
      "\n",
      "At iterate  200    f=  1.06833D+09    |proj g|=  3.13157D+03\n",
      "\n",
      "At iterate  250    f=  9.89311D+08    |proj g|=  3.64194D+03\n",
      "\n",
      "At iterate  300    f=  9.39664D+08    |proj g|=  2.93279D+03\n",
      "\n",
      "At iterate  350    f=  9.05229D+08    |proj g|=  1.53495D+03\n",
      "\n",
      "At iterate  400    f=  8.80128D+08    |proj g|=  2.50451D+03\n",
      "\n",
      "At iterate  450    f=  8.61666D+08    |proj g|=  1.43719D+03\n",
      "\n",
      "At iterate  500    f=  8.46793D+08    |proj g|=  9.91772D+02\n",
      "\n",
      "At iterate  550    f=  8.35041D+08    |proj g|=  1.43949D+03\n",
      "\n",
      "At iterate  600    f=  8.25983D+08    |proj g|=  1.09163D+03\n",
      "\n",
      "At iterate  650    f=  8.18157D+08    |proj g|=  1.14926D+03\n",
      "\n",
      "At iterate  700    f=  8.11633D+08    |proj g|=  1.02847D+03\n",
      "\n",
      "At iterate  750    f=  8.06225D+08    |proj g|=  9.33473D+02\n",
      "\n",
      "At iterate  800    f=  8.01378D+08    |proj g|=  9.05550D+02\n",
      "\n",
      "At iterate  850    f=  7.97228D+08    |proj g|=  5.38980D+02\n",
      "\n",
      "At iterate  900    f=  7.93931D+08    |proj g|=  8.64921D+02\n",
      "\n",
      "At iterate  950    f=  7.90804D+08    |proj g|=  7.30706D+02\n",
      "\n",
      "At iterate 1000    f=  7.88178D+08    |proj g|=  5.52198D+02\n",
      "\n",
      "           * * *\n",
      "\n",
      "Tit   = total number of iterations\n",
      "Tnf   = total number of function evaluations\n",
      "Tnint = total number of segments explored during Cauchy searches\n",
      "Skip  = number of BFGS updates skipped\n",
      "Nact  = number of active bounds at final generalized Cauchy point\n",
      "Projg = norm of the final projected gradient\n",
      "F     = final function value\n",
      "\n",
      "           * * *\n",
      "\n",
      "   N    Tit     Tnf  Tnint  Skip  Nact     Projg        F\n",
      "*****   1000   1046      1     0     0   5.522D+02   7.882D+08\n",
      "  F =   788177920.00000000     \n",
      "\n",
      "STOP: TOTAL NO. of ITERATIONS REACHED LIMIT                 \n",
      "Single image elapsed time: 174.6139419078827\n"
     ]
    }
   ],
   "source": [
    "!bash stylize_image.sh ./image_input/alamin.jpg ./styles/kandinsky.jpg"
   ]
  },
  {
   "cell_type": "code",
   "execution_count": null,
   "metadata": {
    "colab": {
     "base_uri": "https://localhost:8080/"
    },
    "id": "nUbpXUIML29y",
    "outputId": "a660b211-e987-4782-b46d-95ccd61299e2"
   },
   "outputs": [
    {
     "name": "stdout",
     "output_type": "stream",
     "text": [
      "/content/neural-style-tf\n"
     ]
    }
   ],
   "source": [
    "!pwd"
   ]
  },
  {
   "cell_type": "code",
   "execution_count": null,
   "metadata": {
    "colab": {
     "base_uri": "https://localhost:8080/"
    },
    "id": "BO6_tkeLAgTG",
    "outputId": "9d0fecc1-6a5b-40b7-955a-1c2eb41db721"
   },
   "outputs": [
    {
     "name": "stdout",
     "output_type": "stream",
     "text": [
      "Traceback (most recent call last):\n",
      "  File \"neural_style.py\", line 858, in <module>\n",
      "    main()\n",
      "  File \"neural_style.py\", line 855, in main\n",
      "    else: render_single_image()\n",
      "  File \"neural_style.py\", line 818, in render_single_image\n",
      "    content_img = get_content_image(args.content_img)\n",
      "  File \"neural_style.py\", line 707, in get_content_image\n",
      "    check_image(img, path)\n",
      "  File \"neural_style.py\", line 544, in check_image\n",
      "    raise OSError(errno.ENOENT, \"No such file\", path)\n",
      "FileNotFoundError: [Errno 2] No such file: '/content/neural-style-tf/image_input/Me.jpg'\n"
     ]
    }
   ],
   "source": [
    "!python neural_style.py --content_img /content/neural-style-tf/image_input/Me.jpg \\\n",
    "                       --style_imgs /content/neural-style-tf/styles/starry-night.jpg \\\n",
    "                       --max_size 4000 \\\n",
    "                       --max_iterations 1000 \\\n",
    "                       --original_colors \\\n",
    "                       --verbose;"
   ]
  },
  {
   "cell_type": "markdown",
   "metadata": {
    "id": "wuu6V7z6MMgF"
   },
   "source": [
    "Example Result, a photo of me in **Van Gogh** style:\n",
    "![VG styled phot of me](https://i.imgur.com/wuayIoK.png)"
   ]
  },
  {
   "cell_type": "code",
   "execution_count": null,
   "metadata": {},
   "outputs": [],
   "source": []
  }
 ],
 "metadata": {
  "accelerator": "GPU",
  "colab": {
   "collapsed_sections": [],
   "name": "Neural-Style-TF.ipynb",
   "provenance": [],
   "toc_visible": true
  },
  "kernelspec": {
   "display_name": "Python 3",
   "language": "python",
   "name": "python3"
  },
  "language_info": {
   "codemirror_mode": {
    "name": "ipython",
    "version": 3
   },
   "file_extension": ".py",
   "mimetype": "text/x-python",
   "name": "python",
   "nbconvert_exporter": "python",
   "pygments_lexer": "ipython3",
   "version": "3.8.5"
  }
 },
 "nbformat": 4,
 "nbformat_minor": 1
}
